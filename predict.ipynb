{
 "cells": [
  {
   "cell_type": "code",
   "execution_count": 1,
   "id": "e72c360e-4e0c-4074-9eb7-fdcf11a35568",
   "metadata": {},
   "outputs": [],
   "source": [
    "import torch\n",
    "from transformers import AutoTokenizer, AutoModelForCausalLM\n",
    "import time"
   ]
  },
  {
   "cell_type": "code",
   "execution_count": 8,
   "id": "a82ff13b-63b8-49a1-b831-c6a6113816aa",
   "metadata": {},
   "outputs": [],
   "source": [
    "def predict_code(tokenizer, model, input_code, device='cpu'):\n",
    "    model.to(device)\n",
    "    input_ids = tokenizer.encode(input_code, return_tensors='pt').to(device)\n",
    "    with torch.no_grad():\n",
    "        output_ids = model.generate(input_ids, max_length=100)\n",
    "    return tokenizer.decode(output_ids[0], skip_special_tokens=True)\n",
    "\n",
    "def calculate_throughput(tokenizer, model, input_code, device='cpu', num_runs=1):\n",
    "    model.to(device)\n",
    "    input_ids = tokenizer.encode(input_code, return_tensors='pt').to(device)\n",
    "    start_time = time.time()\n",
    "    with torch.no_grad():\n",
    "        for _ in range(num_runs):\n",
    "            _ = model.generate(input_ids, max_length=100)\n",
    "    end_time = time.time()\n",
    "    throughput = num_runs / (end_time - start_time)\n",
    "    return throughput"
   ]
  },
  {
   "cell_type": "code",
   "execution_count": 3,
   "id": "b088d3b9-9b11-4cdf-b325-11f592fee0e2",
   "metadata": {},
   "outputs": [],
   "source": [
    "input_code = \"def hello_world():\""
   ]
  },
  {
   "cell_type": "code",
   "execution_count": 5,
   "id": "c8500446-cded-44cb-8ea4-7812b32f7fbf",
   "metadata": {},
   "outputs": [
    {
     "name": "stderr",
     "output_type": "stream",
     "text": [
      "Special tokens have been added in the vocabulary, make sure the associated word embeddings are fine-tuned or trained.\n"
     ]
    },
    {
     "data": {
      "application/vnd.jupyter.widget-view+json": {
       "model_id": "781f52e998cc48b0be1c61946be6a43c",
       "version_major": 2,
       "version_minor": 0
      },
      "text/plain": [
       "Downloading shards:   0%|          | 0/2 [00:00<?, ?it/s]"
      ]
     },
     "metadata": {},
     "output_type": "display_data"
    },
    {
     "data": {
      "application/vnd.jupyter.widget-view+json": {
       "model_id": "2c39ac603f304bb9afaa5491d13323b9",
       "version_major": 2,
       "version_minor": 0
      },
      "text/plain": [
       "model-00001-of-00002.safetensors:   0%|          | 0.00/4.98G [00:00<?, ?B/s]"
      ]
     },
     "metadata": {},
     "output_type": "display_data"
    },
    {
     "data": {
      "application/vnd.jupyter.widget-view+json": {
       "model_id": "68689082737c495b9c83c127226195e3",
       "version_major": 2,
       "version_minor": 0
      },
      "text/plain": [
       "model-00002-of-00002.safetensors:   0%|          | 0.00/688M [00:00<?, ?B/s]"
      ]
     },
     "metadata": {},
     "output_type": "display_data"
    },
    {
     "data": {
      "application/vnd.jupyter.widget-view+json": {
       "model_id": "e3ac53c97d21429daf399ea30d5d2af8",
       "version_major": 2,
       "version_minor": 0
      },
      "text/plain": [
       "Loading checkpoint shards:   0%|          | 0/2 [00:00<?, ?it/s]"
      ]
     },
     "metadata": {},
     "output_type": "display_data"
    },
    {
     "data": {
      "application/vnd.jupyter.widget-view+json": {
       "model_id": "9616b61fbeae481ca9610d221ee4d46f",
       "version_major": 2,
       "version_minor": 0
      },
      "text/plain": [
       "generation_config.json:   0%|          | 0.00/69.0 [00:00<?, ?B/s]"
      ]
     },
     "metadata": {},
     "output_type": "display_data"
    },
    {
     "data": {
      "text/plain": [
       "PhiForCausalLM(\n",
       "  (transformer): PhiModel(\n",
       "    (embd): Embedding(\n",
       "      (wte): Embedding(51200, 2048)\n",
       "      (drop): Dropout(p=0.0, inplace=False)\n",
       "    )\n",
       "    (h): ModuleList(\n",
       "      (0-23): 24 x ParallelBlock(\n",
       "        (ln): LayerNorm((2048,), eps=1e-05, elementwise_affine=True)\n",
       "        (resid_dropout): Dropout(p=0.0, inplace=False)\n",
       "        (mixer): MHA(\n",
       "          (rotary_emb): RotaryEmbedding()\n",
       "          (Wqkv): Linear(in_features=2048, out_features=6144, bias=True)\n",
       "          (out_proj): Linear(in_features=2048, out_features=2048, bias=True)\n",
       "          (inner_attn): SelfAttention(\n",
       "            (drop): Dropout(p=0.0, inplace=False)\n",
       "          )\n",
       "          (inner_cross_attn): CrossAttention(\n",
       "            (drop): Dropout(p=0.0, inplace=False)\n",
       "          )\n",
       "        )\n",
       "        (mlp): MLP(\n",
       "          (fc1): Linear(in_features=2048, out_features=8192, bias=True)\n",
       "          (fc2): Linear(in_features=8192, out_features=2048, bias=True)\n",
       "          (act): NewGELUActivation()\n",
       "        )\n",
       "      )\n",
       "    )\n",
       "  )\n",
       "  (lm_head): CausalLMHead(\n",
       "    (ln): LayerNorm((2048,), eps=1e-05, elementwise_affine=True)\n",
       "    (linear): Linear(in_features=2048, out_features=51200, bias=True)\n",
       "  )\n",
       "  (loss): CausalLMLoss(\n",
       "    (loss_fct): CrossEntropyLoss()\n",
       "  )\n",
       ")"
      ]
     },
     "execution_count": 5,
     "metadata": {},
     "output_type": "execute_result"
    }
   ],
   "source": [
    "tokenizer = AutoTokenizer.from_pretrained(\"budecosystem/code-millenials-1b\", trust_remote_code=True)\n",
    "model = AutoModelForCausalLM.from_pretrained(\"marco-molinari/python-code-millenials-1b\", trust_remote_code=True)\n",
    "model.eval()"
   ]
  },
  {
   "cell_type": "code",
   "execution_count": 12,
   "id": "7bfb88a9-8cb7-4f53-9e6c-d598b982e717",
   "metadata": {},
   "outputs": [
    {
     "name": "stdout",
     "output_type": "stream",
     "text": [
      "Predicted Code: def hello_world():\n",
      "    return \"Hello, World!\"\n",
      "\n",
      "if __name__ == \"__main__\":\n",
      "    print(hello_world())\n",
      "```\n",
      "\n",
      "In this example, the `hello_world` function is defined to return the string \"Hello, World!\". The `if __name__ == \"__main__\":` block is used to ensure that the function is only executed when the script is run directly (i.e., not imported as a module\n"
     ]
    }
   ],
   "source": [
    "completed_code = predict_code(tokenizer, model, input_code)\n",
    "print(\"Predicted Code:\", completed_code)"
   ]
  },
  {
   "cell_type": "code",
   "execution_count": null,
   "id": "605eab22-5b24-435a-b6d3-196782a8d0b2",
   "metadata": {},
   "outputs": [],
   "source": []
  }
 ],
 "metadata": {
  "kernelspec": {
   "display_name": "Python 3 (ipykernel)",
   "language": "python",
   "name": "python3"
  },
  "language_info": {
   "codemirror_mode": {
    "name": "ipython",
    "version": 3
   },
   "file_extension": ".py",
   "mimetype": "text/x-python",
   "name": "python",
   "nbconvert_exporter": "python",
   "pygments_lexer": "ipython3",
   "version": "3.10.13"
  }
 },
 "nbformat": 4,
 "nbformat_minor": 5
}
