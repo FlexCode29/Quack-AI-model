{
 "cells": [
  {
   "cell_type": "code",
   "execution_count": 1,
   "id": "e72c360e-4e0c-4074-9eb7-fdcf11a35568",
   "metadata": {},
   "outputs": [],
   "source": [
    "import torch\n",
    "from transformers import AutoTokenizer, AutoModelForCausalLM\n",
    "import time"
   ]
  },
  {
   "cell_type": "code",
   "execution_count": 2,
   "id": "a82ff13b-63b8-49a1-b831-c6a6113816aa",
   "metadata": {},
   "outputs": [],
   "source": [
    "def predict_code(tokenizer, model, input_code, device='cpu'):\n",
    "    model.to(device)\n",
    "    input_ids = tokenizer.encode(input_code, return_tensors='pt').to(device)\n",
    "    with torch.no_grad():\n",
    "        output_ids = model.generate(input_ids, max_length=100)\n",
    "    return tokenizer.decode(output_ids[0], skip_special_tokens=True)\n",
    "\n",
    "def calculate_throughput(tokenizer, model, input_code, device='cpu', num_runs=100):\n",
    "    model.to(device)\n",
    "    input_ids = tokenizer.encode(input_code, return_tensors='pt').to(device)\n",
    "    start_time = time.time()\n",
    "    with torch.no_grad():\n",
    "        for _ in range(num_runs):\n",
    "            _ = model.generate(input_ids, max_length=100)\n",
    "    end_time = time.time()\n",
    "    throughput = num_runs / (end_time - start_time)\n",
    "    return throughput"
   ]
  },
  {
   "cell_type": "code",
   "execution_count": 3,
   "id": "b088d3b9-9b11-4cdf-b325-11f592fee0e2",
   "metadata": {},
   "outputs": [],
   "source": [
    "input_code = \"def hello_world():\""
   ]
  },
  {
   "cell_type": "code",
   "execution_count": null,
   "id": "c8500446-cded-44cb-8ea4-7812b32f7fbf",
   "metadata": {},
   "outputs": [],
   "source": [
    "tokenizer = AutoTokenizer.from_pretrained(\"budecosystem/code-millenials-1b\", trust_remote_code=True)\n",
    "model = AutoModelForCausalLM.from_pretrained(\"marco-molinari/python-code-millenials-1b\", trust_remote_code=True)\n",
    "model.eval()"
   ]
  },
  {
   "cell_type": "code",
   "execution_count": null,
   "id": "7bfb88a9-8cb7-4f53-9e6c-d598b982e717",
   "metadata": {},
   "outputs": [],
   "source": [
    "completed_code = predict_code(tokenizer, model, input_code)\n",
    "print(\"Predicted Code:\", completed_code)\n",
    "\n",
    "throughput = calculate_throughput(tokenizer, model, input_code)\n",
    "print(\"Throughput (in sequences per second):\", throughput)"
   ]
  }
 ],
 "metadata": {
  "kernelspec": {
   "display_name": "Python 3 (ipykernel)",
   "language": "python",
   "name": "python3"
  },
  "language_info": {
   "codemirror_mode": {
    "name": "ipython",
    "version": 3
   },
   "file_extension": ".py",
   "mimetype": "text/x-python",
   "name": "python",
   "nbconvert_exporter": "python",
   "pygments_lexer": "ipython3",
   "version": "3.10.13"
  }
 },
 "nbformat": 4,
 "nbformat_minor": 5
}
